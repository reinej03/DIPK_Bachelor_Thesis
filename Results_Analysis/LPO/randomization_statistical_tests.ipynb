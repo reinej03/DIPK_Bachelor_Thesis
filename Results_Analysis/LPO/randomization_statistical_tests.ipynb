{
 "cells": [
  {
   "cell_type": "code",
   "execution_count": 1,
   "metadata": {},
   "outputs": [],
   "source": [
    "import numpy as np\n",
    "import pandas as pd\n",
    "from scipy import stats"
   ]
  },
  {
   "cell_type": "markdown",
   "metadata": {},
   "source": [
    "Comparing randomized gene expression features to no randomization, LPO. "
   ]
  },
  {
   "cell_type": "code",
   "execution_count": 2,
   "metadata": {},
   "outputs": [
    {
     "name": "stdout",
     "output_type": "stream",
     "text": [
      "Randomized Gene Expression Features -> Wilcoxon Rank Test \n",
      "   Statistic: 6460812483.0, p-value: 5.324521670865933e-294\n"
     ]
    }
   ],
   "source": [
    "\n",
    "#no randomization\n",
    "dataset = []\n",
    "for i in range(5):\n",
    "    current_dataset = pd.read_csv(f\"./Data/DIPK/no_randomization/predictions_split_{i}.csv\")\n",
    "    dataset.append(current_dataset)\n",
    "\n",
    "dataset = pd.concat(dataset, ignore_index=True)\n",
    "no_rand = np.array((dataset.loc[:,\"predictions\"] - dataset.loc[:,\"response\"])**2)\n",
    "\n",
    "#randomized gene expression features \n",
    "dataset = []\n",
    "for i in range(5):\n",
    "    current_dataset = pd.read_csv(f\"./Data/DIPK/randomizing_CCLs/randomization_SVCC_biological_network_features_split_{i}.csv\")\n",
    "    dataset.append(current_dataset)\n",
    "\n",
    "dataset = pd.concat(dataset, ignore_index=True)\n",
    "rand = np.array((dataset.loc[:,\"predictions\"] - dataset.loc[:,\"response\"])**2)\n",
    "\n",
    "#run statistical tests \n",
    "statistic, p_value = stats.wilcoxon(no_rand, rand)\n",
    "print(f'Randomized Gene Expression Features -> Wilcoxon Rank Test \\n   Statistic: {statistic}, p-value: {p_value}')\n"
   ]
  },
  {
   "cell_type": "markdown",
   "metadata": {},
   "source": [
    "Comparing randomized biological network features to no randomization. LPO. "
   ]
  },
  {
   "cell_type": "code",
   "execution_count": 3,
   "metadata": {},
   "outputs": [
    {
     "name": "stdout",
     "output_type": "stream",
     "text": [
      "Randomized Biological Network Features -> Wilcoxon Rank Test \n",
      "   Statistic: 7040953961.0, p-value: 2.7684164029458026e-15\n"
     ]
    }
   ],
   "source": [
    "\n",
    "#no randomization\n",
    "dataset = []\n",
    "for i in range(5):\n",
    "    current_dataset = pd.read_csv(f\"./Data/DIPK/no_randomization/predictions_split_{i}.csv\")\n",
    "    dataset.append(current_dataset)\n",
    "\n",
    "dataset = pd.concat(dataset, ignore_index=True)\n",
    "no_rand = np.array((dataset.loc[:,\"predictions\"] - dataset.loc[:,\"response\"])**2)\n",
    "\n",
    "#randomized biological network feartures \n",
    "dataset = []\n",
    "for i in range(5):\n",
    "    current_dataset = pd.read_csv(f\"./Data/DIPK/randomizing_CCLs/randomization_SVCC_gene_expression_features_split_{i}.csv\")\n",
    "    dataset.append(current_dataset)\n",
    "\n",
    "dataset = pd.concat(dataset, ignore_index=True)\n",
    "rand = np.array((dataset.loc[:,\"predictions\"] - dataset.loc[:,\"response\"])**2)\n",
    "\n",
    "#run statistical tests \n",
    "statistic, p_value = stats.wilcoxon(no_rand, rand)\n",
    "print(f'Randomized Biological Network Features -> Wilcoxon Rank Test \\n   Statistic: {statistic}, p-value: {p_value}')\n"
   ]
  },
  {
   "cell_type": "markdown",
   "metadata": {},
   "source": [
    "Comparing randomized MolGNet features to no randomization. LPO. "
   ]
  },
  {
   "cell_type": "code",
   "execution_count": 4,
   "metadata": {},
   "outputs": [
    {
     "name": "stdout",
     "output_type": "stream",
     "text": [
      "Randomized MolGNet Features -> Wilcoxon Rank Test \n",
      "   Statistic: 7166914782.0, p-value: 0.09695518264479898\n"
     ]
    }
   ],
   "source": [
    "\n",
    "#no randomization\n",
    "dataset = []\n",
    "for i in range(5):\n",
    "    current_dataset = pd.read_csv(f\"./Data/DIPK/no_randomization/predictions_split_{i}.csv\")\n",
    "    dataset.append(current_dataset)\n",
    "\n",
    "dataset = pd.concat(dataset, ignore_index=True)\n",
    "no_rand = np.array((dataset.loc[:,\"predictions\"] - dataset.loc[:,\"response\"])**2)\n",
    "\n",
    "#randomized MolGNet features \n",
    "dataset = []\n",
    "for i in range(5):\n",
    "    current_dataset = pd.read_csv(f\"./Data/DIPK/randomizing_Drugs/MolGNet/predictions_split_{i}.csv\")\n",
    "    dataset.append(current_dataset)\n",
    "\n",
    "dataset = pd.concat(dataset, ignore_index=True)\n",
    "rand = np.array((dataset.loc[:,\"predictions\"] - dataset.loc[:,\"response\"])**2)\n",
    "\n",
    "#run statistical tests \n",
    "statistic, p_value = stats.wilcoxon(no_rand, rand)\n",
    "print(f'Randomized MolGNet Features -> Wilcoxon Rank Test \\n   Statistic: {statistic}, p-value: {p_value}')\n"
   ]
  },
  {
   "cell_type": "markdown",
   "metadata": {},
   "source": [
    "Comparing randomized edge indices to no randomization. LPO. "
   ]
  },
  {
   "cell_type": "code",
   "execution_count": 5,
   "metadata": {},
   "outputs": [
    {
     "name": "stdout",
     "output_type": "stream",
     "text": [
      "Randomized Edge Indices -> Wilcoxon Rank Test \n",
      "   Statistic: 7188459556.0, p-value: 0.5536539963243889\n"
     ]
    }
   ],
   "source": [
    "\n",
    "#no randomization\n",
    "dataset = []\n",
    "for i in range(5):\n",
    "    current_dataset = pd.read_csv(f\"./Data/DIPK/no_randomization/predictions_split_{i}.csv\")\n",
    "    dataset.append(current_dataset)\n",
    "\n",
    "dataset = pd.concat(dataset, ignore_index=True)\n",
    "no_rand = np.array((dataset.loc[:,\"predictions\"] - dataset.loc[:,\"response\"])**2)\n",
    "\n",
    "#randomized ende indices \n",
    "dataset = []\n",
    "for i in range(5):\n",
    "    current_dataset = pd.read_csv(f\"./Data/DIPK/randomizing_Drugs/Edges/predictions_split_{i}.csv\")\n",
    "    dataset.append(current_dataset)\n",
    "\n",
    "dataset = pd.concat(dataset, ignore_index=True)\n",
    "rand = np.array((dataset.loc[:,\"predictions\"] - dataset.loc[:,\"response\"])**2)\n",
    "\n",
    "#run statistical tests \n",
    "statistic, p_value = stats.wilcoxon(no_rand, rand)\n",
    "print(f'Randomized Edge Indices -> Wilcoxon Rank Test \\n   Statistic: {statistic}, p-value: {p_value}')\n"
   ]
  }
 ],
 "metadata": {
  "kernelspec": {
   "display_name": "base",
   "language": "python",
   "name": "python3"
  },
  "language_info": {
   "codemirror_mode": {
    "name": "ipython",
    "version": 3
   },
   "file_extension": ".py",
   "mimetype": "text/x-python",
   "name": "python",
   "nbconvert_exporter": "python",
   "pygments_lexer": "ipython3",
   "version": "3.12.5"
  }
 },
 "nbformat": 4,
 "nbformat_minor": 2
}
