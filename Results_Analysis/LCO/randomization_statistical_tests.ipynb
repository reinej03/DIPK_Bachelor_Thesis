{
 "cells": [
  {
   "cell_type": "code",
   "execution_count": 1,
   "metadata": {},
   "outputs": [],
   "source": [
    "import numpy as np\n",
    "import pandas as pd\n",
    "from scipy import stats\n"
   ]
  },
  {
   "cell_type": "markdown",
   "metadata": {},
   "source": [
    "Comparing randomized gene expression features to no randomization, LCO. "
   ]
  },
  {
   "cell_type": "code",
   "execution_count": 2,
   "metadata": {},
   "outputs": [
    {
     "name": "stdout",
     "output_type": "stream",
     "text": [
      "Randomized Gene Expression Features -> Wilcoxon Rank Test \n",
      "   Statistic: 71279.0, p-value: 1.0171020045171632e-68\n"
     ]
    }
   ],
   "source": [
    "\n",
    "#no randomization\n",
    "dataset = []\n",
    "for i in range(5):\n",
    "    current_dataset = pd.read_csv(f\"./Data/DIPK/no_randomization/predictions_split_{i}.csv\")\n",
    "    dataset.append(current_dataset)\n",
    "\n",
    "dataset_no_rand = pd.concat(dataset, ignore_index=True)\n",
    "dataset_no_rand = dataset_no_rand.set_index(\"cell_line_ids\")\n",
    "\n",
    "#randomized gene expression features \n",
    "dataset = []\n",
    "for i in range(5):\n",
    "    current_dataset = pd.read_csv(f\"./Data/DIPK/randomizing_CCLs/randomization_SVCC_biological_network_features_split_{i}.csv\")\n",
    "    dataset.append(current_dataset)\n",
    "\n",
    "dataset_rand = pd.concat(dataset, ignore_index=True)\n",
    "dataset_rand = dataset_rand.set_index(\"cell_line_ids\")\n",
    "\n",
    "#calculate MSEs\n",
    "cell_lines = dataset_no_rand.index\n",
    "cell_lines = cell_lines.drop_duplicates()\n",
    "\n",
    "MSEs=pd.DataFrame(index=cell_lines, columns=[\"no_rand\", \"rand\"])\n",
    "\n",
    "for each in MSEs.index:\n",
    "    true_no_rand = dataset_no_rand.loc[each, \"response\"]\n",
    "    pred_no_rand = dataset_no_rand.loc[each, \"predictions\"]\n",
    "    mse_no_rand=np.mean((np.array(true_no_rand)-np.array(pred_no_rand))**2)\n",
    "    MSEs.loc[each, \"no_rand\"] = mse_no_rand\n",
    "    \n",
    "    true_rand = dataset_rand.loc[each, \"response\"]\n",
    "    pred_rand = dataset_rand.loc[each, \"predictions\"]\n",
    "    mse_rand=np.mean((np.array(true_rand)-np.array(pred_rand))**2)\n",
    "    MSEs.loc[each, \"rand\"] = mse_rand\n",
    "\n",
    "#run statistical tests \n",
    "no_rand = MSEs[\"no_rand\"].to_list()\n",
    "rand = MSEs[\"rand\"].to_list()\n",
    "statistic, p_value = stats.wilcoxon(no_rand, rand)\n",
    "print(f'Randomized Gene Expression Features -> Wilcoxon Rank Test \\n   Statistic: {statistic}, p-value: {p_value}')\n"
   ]
  },
  {
   "cell_type": "markdown",
   "metadata": {},
   "source": [
    "Comparing randomized biological network features to no randomization, LCO. "
   ]
  },
  {
   "cell_type": "code",
   "execution_count": 3,
   "metadata": {},
   "outputs": [
    {
     "name": "stdout",
     "output_type": "stream",
     "text": [
      "Randomized Biological Network Features -> Wilcoxon Rank Test \n",
      "   Statistic: 178518.0, p-value: 1.847653435183368e-05\n"
     ]
    }
   ],
   "source": [
    "\n",
    "#no randomization\n",
    "dataset = []\n",
    "for i in range(5):\n",
    "    current_dataset = pd.read_csv(f\"./Data/DIPK/no_randomization/predictions_split_{i}.csv\")\n",
    "    dataset.append(current_dataset)\n",
    "\n",
    "dataset_no_rand = pd.concat(dataset, ignore_index=True)\n",
    "dataset_no_rand = dataset_no_rand.set_index(\"cell_line_ids\")\n",
    "\n",
    "#randomized biological network features \n",
    "dataset = []\n",
    "for i in range(5):\n",
    "    current_dataset = pd.read_csv(f\"./Data/DIPK/randomizing_CCLs/randomization_SVCC_gene_expression_features_split_{i}.csv\")\n",
    "    dataset.append(current_dataset)\n",
    "\n",
    "dataset_rand = pd.concat(dataset, ignore_index=True)\n",
    "dataset_rand = dataset_rand.set_index(\"cell_line_ids\")\n",
    "\n",
    "#calculate MSEs\n",
    "cell_lines = dataset_no_rand.index\n",
    "cell_lines = cell_lines.drop_duplicates()\n",
    "\n",
    "MSEs=pd.DataFrame(index=cell_lines, columns=[\"no_rand\", \"rand\"])\n",
    "\n",
    "for each in MSEs.index:\n",
    "    true_no_rand = dataset_no_rand.loc[each, \"response\"]\n",
    "    pred_no_rand = dataset_no_rand.loc[each, \"predictions\"]\n",
    "    mse_no_rand=np.mean((np.array(true_no_rand)-np.array(pred_no_rand))**2)\n",
    "    MSEs.loc[each, \"no_rand\"] = mse_no_rand\n",
    "    \n",
    "    true_rand = dataset_rand.loc[each, \"response\"]\n",
    "    pred_rand = dataset_rand.loc[each, \"predictions\"]\n",
    "    mse_rand=np.mean((np.array(true_rand)-np.array(pred_rand))**2)\n",
    "    MSEs.loc[each, \"rand\"] = mse_rand\n",
    "\n",
    "#run statistical tests \n",
    "no_rand = MSEs[\"no_rand\"].to_list()\n",
    "rand = MSEs[\"rand\"].to_list()\n",
    "statistic, p_value = stats.wilcoxon(no_rand, rand)\n",
    "print(f'Randomized Biological Network Features -> Wilcoxon Rank Test \\n   Statistic: {statistic}, p-value: {p_value}')"
   ]
  },
  {
   "cell_type": "markdown",
   "metadata": {},
   "source": [
    "Comparing randomized MolGNet features to no randomization, LCO. "
   ]
  },
  {
   "cell_type": "code",
   "execution_count": 4,
   "metadata": {},
   "outputs": [
    {
     "name": "stdout",
     "output_type": "stream",
     "text": [
      "Randomized MolGNet Features -> Wilcoxon Rank Test \n",
      "   Statistic: 145004.0, p-value: 3.7867558534538084e-17\n"
     ]
    }
   ],
   "source": [
    "\n",
    "#no randomization\n",
    "dataset = []\n",
    "for i in range(5):\n",
    "    current_dataset = pd.read_csv(f\"./Data/DIPK/no_randomization/predictions_split_{i}.csv\")\n",
    "    dataset.append(current_dataset)\n",
    "\n",
    "dataset_no_rand = pd.concat(dataset, ignore_index=True)\n",
    "dataset_no_rand = dataset_no_rand.set_index(\"cell_line_ids\")\n",
    "\n",
    "#randomized MolGNet features \n",
    "dataset = []\n",
    "for i in range(5):\n",
    "    current_dataset = pd.read_csv(f\"./Data/DIPK/randomizing_Drugs/MolGNet/predictions_split_{i}.csv\")\n",
    "    dataset.append(current_dataset)\n",
    "\n",
    "dataset_rand = pd.concat(dataset, ignore_index=True)\n",
    "dataset_rand = dataset_rand.set_index(\"cell_line_ids\")\n",
    "\n",
    "#calculate MSEs\n",
    "cell_lines = dataset_no_rand.index\n",
    "cell_lines = cell_lines.drop_duplicates()\n",
    "\n",
    "MSEs=pd.DataFrame(index=cell_lines, columns=[\"no_rand\", \"rand\"])\n",
    "\n",
    "for each in MSEs.index:\n",
    "    true_no_rand = dataset_no_rand.loc[each, \"response\"]\n",
    "    pred_no_rand = dataset_no_rand.loc[each, \"predictions\"]\n",
    "    mse_no_rand=np.mean((np.array(true_no_rand)-np.array(pred_no_rand))**2)\n",
    "    MSEs.loc[each, \"no_rand\"] = mse_no_rand\n",
    "    \n",
    "    true_rand = dataset_rand.loc[each, \"response\"]\n",
    "    pred_rand = dataset_rand.loc[each, \"predictions\"]\n",
    "    mse_rand=np.mean((np.array(true_rand)-np.array(pred_rand))**2)\n",
    "    MSEs.loc[each, \"rand\"] = mse_rand\n",
    "\n",
    "#run statistical tests \n",
    "no_rand = MSEs[\"no_rand\"].to_list()\n",
    "rand = MSEs[\"rand\"].to_list()\n",
    "statistic, p_value = stats.wilcoxon(no_rand, rand)\n",
    "print(f'Randomized MolGNet Features -> Wilcoxon Rank Test \\n   Statistic: {statistic}, p-value: {p_value}')\n"
   ]
  },
  {
   "cell_type": "markdown",
   "metadata": {},
   "source": [
    "Comparing randomized edge indices to no randomization, LCO. "
   ]
  },
  {
   "cell_type": "code",
   "execution_count": 5,
   "metadata": {},
   "outputs": [
    {
     "name": "stdout",
     "output_type": "stream",
     "text": [
      "Randomized Edge Indices -> Wilcoxon Rank Test \n",
      "   Statistic: 192387.0, p-value: 0.010151089184167442\n"
     ]
    }
   ],
   "source": [
    "\n",
    "#no randomization\n",
    "dataset = []\n",
    "for i in range(5):\n",
    "    current_dataset = pd.read_csv(f\"./Data/DIPK/no_randomization/predictions_split_{i}.csv\")\n",
    "    dataset.append(current_dataset)\n",
    "\n",
    "dataset_no_rand = pd.concat(dataset, ignore_index=True)\n",
    "dataset_no_rand = dataset_no_rand.set_index(\"cell_line_ids\")\n",
    "\n",
    "#randomized Edge indices \n",
    "dataset = []\n",
    "for i in range(5):\n",
    "    current_dataset = pd.read_csv(f\"./Data/DIPK/randomizing_Drugs/Edges/predictions_split_{i}.csv\")\n",
    "    dataset.append(current_dataset)\n",
    "\n",
    "dataset_rand = pd.concat(dataset, ignore_index=True)\n",
    "dataset_rand = dataset_rand.set_index(\"cell_line_ids\")\n",
    "\n",
    "#calculate MSEs\n",
    "cell_lines = dataset_no_rand.index\n",
    "cell_lines = cell_lines.drop_duplicates()\n",
    "\n",
    "MSEs=pd.DataFrame(index=cell_lines, columns=[\"no_rand\", \"rand\"])\n",
    "\n",
    "for each in MSEs.index:\n",
    "    true_no_rand = dataset_no_rand.loc[each, \"response\"]\n",
    "    pred_no_rand = dataset_no_rand.loc[each, \"predictions\"]\n",
    "    mse_no_rand=np.mean((np.array(true_no_rand)-np.array(pred_no_rand))**2)\n",
    "    MSEs.loc[each, \"no_rand\"] = mse_no_rand\n",
    "    \n",
    "    true_rand = dataset_rand.loc[each, \"response\"]\n",
    "    pred_rand = dataset_rand.loc[each, \"predictions\"]\n",
    "    mse_rand=np.mean((np.array(true_rand)-np.array(pred_rand))**2)\n",
    "    MSEs.loc[each, \"rand\"] = mse_rand\n",
    "\n",
    "#run statistical tests \n",
    "no_rand = MSEs[\"no_rand\"].to_list()\n",
    "rand = MSEs[\"rand\"].to_list()\n",
    "stat, p_value = stats.wilcoxon(rand, no_rand)\n",
    "print(f'Randomized Edge Indices -> Wilcoxon Rank Test \\n   Statistic: {stat}, p-value: {p_value}')"
   ]
  }
 ],
 "metadata": {
  "kernelspec": {
   "display_name": "base",
   "language": "python",
   "name": "python3"
  },
  "language_info": {
   "codemirror_mode": {
    "name": "ipython",
    "version": 3
   },
   "file_extension": ".py",
   "mimetype": "text/x-python",
   "name": "python",
   "nbconvert_exporter": "python",
   "pygments_lexer": "ipython3",
   "version": "3.12.5"
  }
 },
 "nbformat": 4,
 "nbformat_minor": 2
}
